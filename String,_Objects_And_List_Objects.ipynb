{
  "nbformat": 4,
  "nbformat_minor": 0,
  "metadata": {
    "colab": {
      "name": "String, Objects And List Objects.ipynb",
      "provenance": []
    },
    "kernelspec": {
      "name": "python3",
      "display_name": "Python 3"
    },
    "language_info": {
      "name": "python"
    }
  },
  "cells": [
    {
      "cell_type": "code",
      "metadata": {
        "colab": {
          "base_uri": "https://localhost:8080/"
        },
        "id": "YcRwqTA7pDqk",
        "outputId": "6fee2558-95cf-4f3e-9541-9f9d534bfe3a"
      },
      "source": [
        "for i in range(1,6):\n",
        "  print(\"*\" * i)\n",
        "for i in range(4,0,-1):\n",
        "  print(\"*\" * i)"
      ],
      "execution_count": 1,
      "outputs": [
        {
          "output_type": "stream",
          "name": "stdout",
          "text": [
            "*\n",
            "**\n",
            "***\n",
            "****\n",
            "*****\n",
            "****\n",
            "***\n",
            "**\n",
            "*\n"
          ]
        }
      ]
    },
    {
      "cell_type": "markdown",
      "metadata": {
        "id": "5SYRzpG8qAk7"
      },
      "source": [
        "2. Write a Python program to reverse a word after accepting the input from the user."
      ]
    },
    {
      "cell_type": "code",
      "metadata": {
        "colab": {
          "base_uri": "https://localhost:8080/"
        },
        "id": "aHY_G4aAqBxr",
        "outputId": "03672a4a-cc90-44fc-a016-aefc6808e927"
      },
      "source": [
        "a=input(\"Enter a word:\")\n",
        "print(\"The reverse of this word is:{}\".format(a[::-1]))"
      ],
      "execution_count": 3,
      "outputs": [
        {
          "output_type": "stream",
          "name": "stdout",
          "text": [
            "Enter a word:ineuron\n",
            "The reverse of this word is:norueni\n"
          ]
        }
      ]
    }
  ]
}